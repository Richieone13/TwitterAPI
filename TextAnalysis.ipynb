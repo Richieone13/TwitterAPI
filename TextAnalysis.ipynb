{
 "cells": [
  {
   "cell_type": "code",
   "execution_count": 277,
   "metadata": {},
   "outputs": [],
   "source": [
    "import pandas as pd\n",
    "import matplotlib.pyplot as plt\n",
    "%matplotlib inline  \n",
    "from textblob import TextBlob\n",
    "##import re, string, unicodedata\n",
    "import nltk\n",
    "##import contractions\n",
    "##import inflect\n",
    " ## from bs4 import BeautifulSoup\n",
    "from nltk import word_tokenize, sent_tokenize\n",
    "from nltk.corpus import stopwords\n",
    "from nltk.stem import LancasterStemmer, WordNetLemmatizer"
   ]
  },
  {
   "cell_type": "code",
   "execution_count": 278,
   "metadata": {},
   "outputs": [],
   "source": [
    "df = pd.read_csv('survey1.csv')"
   ]
  },
  {
   "cell_type": "code",
   "execution_count": 279,
   "metadata": {},
   "outputs": [
    {
     "data": {
      "text/plain": [
       "'Thinking about the contact you have had with L&Q about your complaint, is there anything else we could have done better?'"
      ]
     },
     "execution_count": 279,
     "metadata": {},
     "output_type": "execute_result"
    }
   ],
   "source": [
    "df['Question text'][0]"
   ]
  },
  {
   "cell_type": "code",
   "execution_count": 280,
   "metadata": {
    "scrolled": true
   },
   "outputs": [
    {
     "data": {
      "text/plain": [
       "Index(['Question text', 'Date', 'Comment', 'Unnamed: 3', 'Unnamed: 4'], dtype='object')"
      ]
     },
     "execution_count": 280,
     "metadata": {},
     "output_type": "execute_result"
    }
   ],
   "source": [
    "df.columns"
   ]
  },
  {
   "cell_type": "code",
   "execution_count": 281,
   "metadata": {},
   "outputs": [],
   "source": [
    "df=df.drop(['Question text','Unnamed: 3', 'Unnamed: 4'], axis=1)"
   ]
  },
  {
   "cell_type": "code",
   "execution_count": 282,
   "metadata": {},
   "outputs": [
    {
     "data": {
      "text/plain": [
       "(429, 2)"
      ]
     },
     "execution_count": 282,
     "metadata": {},
     "output_type": "execute_result"
    }
   ],
   "source": [
    "df.shape"
   ]
  },
  {
   "cell_type": "code",
   "execution_count": null,
   "metadata": {},
   "outputs": [],
   "source": []
  },
  {
   "cell_type": "code",
   "execution_count": 283,
   "metadata": {},
   "outputs": [
    {
     "data": {
      "text/plain": [
       "\"My complaint lasted nearly a year, it is still ongoing. However, they have closed the complaint and would not agree to all the repairs being done. However, the complaints officer has closed the complaint without confirming it with me, which I was quite surprised about and upset about. I feel that the last repair that was to be done by LandQ, was not done to our standard and was not actually done. So but they closed the case to improve case which I am not happy about and overall none of the senior management acknowledged me at all. I copied in senior managers and the Director David Montague. He did not reply once, I was upset about that because we are all customers, which was quite upsetting because generally complaints are resolved very quickly. However, LandQ was very sluggish in this and they lost one of my complaints because apparently it disappeared on their system, which it didn't but it was just made up by one of the staff that it disappeared. I got a complaints number and they could not find that complaint, apparently it went through the system and I received a reference number, which I was quite confused about because they were lying! .           \""
      ]
     },
     "execution_count": 283,
     "metadata": {},
     "output_type": "execute_result"
    }
   ],
   "source": [
    "df['Comment'][2]"
   ]
  },
  {
   "cell_type": "code",
   "execution_count": 284,
   "metadata": {},
   "outputs": [],
   "source": [
    "## To lower case everything\n",
    "df['Comment_short'] = df['Comment'].apply(lambda x: \" \".join(x.lower() for x in x.split()))"
   ]
  },
  {
   "cell_type": "code",
   "execution_count": 285,
   "metadata": {},
   "outputs": [
    {
     "data": {
      "text/plain": [
       "\"My complaint lasted nearly a year, it is still ongoing. However, they have closed the complaint and would not agree to all the repairs being done. However, the complaints officer has closed the complaint without confirming it with me, which I was quite surprised about and upset about. I feel that the last repair that was to be done by LandQ, was not done to our standard and was not actually done. So but they closed the case to improve case which I am not happy about and overall none of the senior management acknowledged me at all. I copied in senior managers and the Director David Montague. He did not reply once, I was upset about that because we are all customers, which was quite upsetting because generally complaints are resolved very quickly. However, LandQ was very sluggish in this and they lost one of my complaints because apparently it disappeared on their system, which it didn't but it was just made up by one of the staff that it disappeared. I got a complaints number and they could not find that complaint, apparently it went through the system and I received a reference number, which I was quite confused about because they were lying! .           \""
      ]
     },
     "execution_count": 285,
     "metadata": {},
     "output_type": "execute_result"
    }
   ],
   "source": [
    "df['Comment'][2]"
   ]
  },
  {
   "cell_type": "code",
   "execution_count": 286,
   "metadata": {},
   "outputs": [],
   "source": [
    "## remove punctuation\n",
    "df['Comment_short'] = df['Comment_short'].str.replace('[^\\w\\s]','')"
   ]
  },
  {
   "cell_type": "code",
   "execution_count": 287,
   "metadata": {},
   "outputs": [
    {
     "data": {
      "text/plain": [
       "'my complaint lasted nearly a year it is still ongoing however they have closed the complaint and would not agree to all the repairs being done however the complaints officer has closed the complaint without confirming it with me which i was quite surprised about and upset about i feel that the last repair that was to be done by landq was not done to our standard and was not actually done so but they closed the case to improve case which i am not happy about and overall none of the senior management acknowledged me at all i copied in senior managers and the director david montague he did not reply once i was upset about that because we are all customers which was quite upsetting because generally complaints are resolved very quickly however landq was very sluggish in this and they lost one of my complaints because apparently it disappeared on their system which it didnt but it was just made up by one of the staff that it disappeared i got a complaints number and they could not find that complaint apparently it went through the system and i received a reference number which i was quite confused about because they were lying '"
      ]
     },
     "execution_count": 287,
     "metadata": {},
     "output_type": "execute_result"
    }
   ],
   "source": [
    "df['Comment_short'][2]"
   ]
  },
  {
   "cell_type": "code",
   "execution_count": 288,
   "metadata": {},
   "outputs": [
    {
     "data": {
      "text/plain": [
       "'complaint lasted nearly year still ongoing however closed complaint would agree repairs done however complaints officer closed complaint without confirming quite surprised upset feel last repair done landq done standard actually done closed case improve case happy overall none senior management acknowledged copied senior managers director david montague reply upset customers quite upsetting generally complaints resolved quickly however landq sluggish lost one complaints apparently disappeared system didnt made one staff disappeared got complaints number could find complaint apparently went system received reference number quite confused lying'"
      ]
     },
     "execution_count": 288,
     "metadata": {},
     "output_type": "execute_result"
    }
   ],
   "source": [
    "## remove stopwords\n",
    "from nltk.corpus import stopwords\n",
    "stop = stopwords.words('english')\n",
    "df['Comment_short'] = df['Comment_short'].apply(lambda x: \" \".join(x for x in x.split() if x not in stop))\n",
    "df['Comment_short'][2]"
   ]
  },
  {
   "cell_type": "code",
   "execution_count": 289,
   "metadata": {},
   "outputs": [
    {
     "data": {
      "text/plain": [
       "complaint    213\n",
       "actually     131\n",
       "im           123\n",
       "thank        113\n",
       "know         104\n",
       "time         104\n",
       "dont          99\n",
       "get           99\n",
       "could         98\n",
       "going         97\n",
       "dtype: int64"
      ]
     },
     "execution_count": 289,
     "metadata": {},
     "output_type": "execute_result"
    }
   ],
   "source": [
    "most = pd.Series(' '.join(df['Comment_short']).split()).value_counts()[:10]\n",
    "most"
   ]
  },
  {
   "cell_type": "code",
   "execution_count": 290,
   "metadata": {},
   "outputs": [
    {
     "data": {
      "text/plain": [
       "0    absolutely everything would changed everything...\n",
       "1        tried information problem making decision bye\n",
       "2    lasted nearly year still ongoing however close...\n",
       "3    think landq listen tenants properly make sure ...\n",
       "4    also scheming help people best opportunities p...\n",
       "Name: Comment_short, dtype: object"
      ]
     },
     "execution_count": 290,
     "metadata": {},
     "output_type": "execute_result"
    }
   ],
   "source": [
    "most = list(most.index)\n",
    "df['Comment_short'] = df['Comment_short'].apply(lambda x: \" \".join(x for x in x.split() if x not in most))\n",
    "df['Comment_short'].head()"
   ]
  },
  {
   "cell_type": "code",
   "execution_count": 291,
   "metadata": {},
   "outputs": [
    {
     "data": {
      "text/plain": [
       "'lasted nearly year still ongoing however closed would agree repairs done however complaints officer closed without confirming quite surprised upset feel last repair done landq done standard done closed case improve case happy overall none senior management acknowledged copied senior managers director david montague reply upset customers quite upsetting generally complaints resolved quickly however landq sluggish lost one complaints apparently disappeared system didnt made one staff disappeared got complaints number find apparently went system received reference number quite confused lying'"
      ]
     },
     "execution_count": 291,
     "metadata": {},
     "output_type": "execute_result"
    }
   ],
   "source": [
    "df['Comment_short'][2]"
   ]
  },
  {
   "cell_type": "code",
   "execution_count": 292,
   "metadata": {},
   "outputs": [
    {
     "data": {
      "text/plain": [
       "think     96\n",
       "ive       95\n",
       "people    93\n",
       "done      87\n",
       "back      79\n",
       "still     78\n",
       "need      78\n",
       "got       76\n",
       "would     75\n",
       "one       75\n",
       "dtype: int64"
      ]
     },
     "execution_count": 292,
     "metadata": {},
     "output_type": "execute_result"
    }
   ],
   "source": [
    "most2 = pd.Series(' '.join(df['Comment_short']).split()).value_counts()[:10]\n",
    "most2"
   ]
  },
  {
   "cell_type": "code",
   "execution_count": 293,
   "metadata": {},
   "outputs": [],
   "source": [
    "from textblob import TextBlob"
   ]
  },
  {
   "cell_type": "code",
   "execution_count": 294,
   "metadata": {},
   "outputs": [
    {
     "data": {
      "text/plain": [
       "WordList(['lasted', 'nearly', 'year', 'still', 'ongoing', 'however', 'closed', 'would', 'agree', 'repairs', 'done', 'however', 'complaints', 'officer', 'closed', 'without', 'confirming', 'quite', 'surprised', 'upset', 'feel', 'last', 'repair', 'done', 'landq', 'done', 'standard', 'done', 'closed', 'case', 'improve', 'case', 'happy', 'overall', 'none', 'senior', 'management', 'acknowledged', 'copied', 'senior', 'managers', 'director', 'david', 'montague', 'reply', 'upset', 'customers', 'quite', 'upsetting', 'generally', 'complaints', 'resolved', 'quickly', 'however', 'landq', 'sluggish', 'lost', 'one', 'complaints', 'apparently', 'disappeared', 'system', 'didnt', 'made', 'one', 'staff', 'disappeared', 'got', 'complaints', 'number', 'find', 'apparently', 'went', 'system', 'received', 'reference', 'number', 'quite', 'confused', 'lying'])"
      ]
     },
     "execution_count": 294,
     "metadata": {},
     "output_type": "execute_result"
    }
   ],
   "source": [
    "TextBlob(df['Comment_short'][2]).words"
   ]
  },
  {
   "cell_type": "code",
   "execution_count": 295,
   "metadata": {},
   "outputs": [],
   "source": [
    "#from nltk.stem import PorterStemmer\n",
    "#st = PorterStemmer()\n",
    "#df['Comment_short'] = df['Comment_short'].apply(lambda x: \" \".join([st.stem(word) for word in x.split()]))"
   ]
  },
  {
   "cell_type": "code",
   "execution_count": 296,
   "metadata": {},
   "outputs": [
    {
     "data": {
      "text/plain": [
       "'lasted nearly year still ongoing however closed would agree repairs done however complaints officer closed without confirming quite surprised upset feel last repair done landq done standard done closed case improve case happy overall none senior management acknowledged copied senior managers director david montague reply upset customers quite upsetting generally complaints resolved quickly however landq sluggish lost one complaints apparently disappeared system didnt made one staff disappeared got complaints number find apparently went system received reference number quite confused lying'"
      ]
     },
     "execution_count": 296,
     "metadata": {},
     "output_type": "execute_result"
    }
   ],
   "source": [
    "df['Comment_short'][2]"
   ]
  },
  {
   "cell_type": "code",
   "execution_count": 297,
   "metadata": {},
   "outputs": [],
   "source": [
    "#make wordcoud\n",
    "\n",
    "from wordcloud import WordCloud, STOPWORDS\n",
    "import matplotlib.pyplot as plt\n",
    "stopwords = set(STOPWORDS)"
   ]
  },
  {
   "cell_type": "code",
   "execution_count": 298,
   "metadata": {},
   "outputs": [
    {
     "data": {
      "image/png": "[encoded data removed]",
      "text/plain": [
       "<Figure size 1008x1008 with 1 Axes>"
      ]
     },
     "metadata": {
      "needs_background": "light"
     },
     "output_type": "display_data"
    }
   ],
   "source": [
    "def show_wordcloud(col, title = None):\n",
    "    wordcloud = WordCloud(\n",
    "        background_color='white',\n",
    "        stopwords=stopwords,\n",
    "        max_words=500,\n",
    "        max_font_size=40, \n",
    "        scale=3,\n",
    "        random_state=1\n",
    "    ).generate(str(col))\n",
    "\n",
    "    fig = plt.figure(1, figsize=(14, 14))\n",
    "    plt.axis('off')\n",
    "    if title: \n",
    "        fig.suptitle(title, fontsize=20)\n",
    "        fig.subplots_adjust(top=2.3)\n",
    "\n",
    "    plt.imshow(wordcloud)\n",
    "    plt.show()\n",
    "\n",
    "\n",
    "if __name__ == '__main__':\n",
    "\n",
    "    show_wordcloud(df['Comment'])"
   ]
  },
  {
   "cell_type": "code",
   "execution_count": 299,
   "metadata": {},
   "outputs": [],
   "source": [
    "from textblob import TextBlob\n",
    "statement = \"poor choice\" #testing\n",
    "sentiment1 = TextBlob(statement).sentiment"
   ]
  },
  {
   "cell_type": "code",
   "execution_count": 300,
   "metadata": {},
   "outputs": [
    {
     "data": {
      "text/plain": [
       "Sentiment(polarity=-0.4, subjectivity=0.6)"
      ]
     },
     "execution_count": 300,
     "metadata": {},
     "output_type": "execute_result"
    }
   ],
   "source": [
    "sentiment1"
   ]
  },
  {
   "cell_type": "code",
   "execution_count": 301,
   "metadata": {},
   "outputs": [
    {
     "data": {
      "text/plain": [
       "Sentiment(polarity=1.0, subjectivity=1.0)"
      ]
     },
     "execution_count": 301,
     "metadata": {},
     "output_type": "execute_result"
    }
   ],
   "source": [
    "statement = \"excellent goal\" \n",
    "sentiment2 = TextBlob(statement).sentiment\n",
    "sentiment2"
   ]
  },
  {
   "cell_type": "code",
   "execution_count": 302,
   "metadata": {},
   "outputs": [],
   "source": [
    "def senti(x):\n",
    "    return TextBlob(x).sentiment"
   ]
  },
  {
   "cell_type": "code",
   "execution_count": 303,
   "metadata": {},
   "outputs": [],
   "source": [
    "df['senti_score'] = df['Comment_short'].apply(senti)\n"
   ]
  },
  {
   "cell_type": "code",
   "execution_count": 304,
   "metadata": {},
   "outputs": [
    {
     "data": {
      "text/plain": [
       "0                                   (0.2, 0.9)\n",
       "1                                   (0.0, 0.0)\n",
       "2    (0.05595238095238097, 0.3619047619047619)\n",
       "3    (0.23928571428571427, 0.4984126984126985)\n",
       "4                                  (0.6, 0.25)\n",
       "Name: senti_score, dtype: object"
      ]
     },
     "execution_count": 304,
     "metadata": {},
     "output_type": "execute_result"
    }
   ],
   "source": [
    "df.senti_score.head()"
   ]
  },
  {
   "cell_type": "code",
   "execution_count": 305,
   "metadata": {},
   "outputs": [
    {
     "data": {
      "text/plain": [
       "(429, 4)"
      ]
     },
     "execution_count": 305,
     "metadata": {},
     "output_type": "execute_result"
    }
   ],
   "source": [
    "df.shape"
   ]
  },
  {
   "cell_type": "code",
   "execution_count": 306,
   "metadata": {},
   "outputs": [
    {
     "data": {
      "text/html": [
       "<div>\n",
       "<style scoped>\n",
       "    .dataframe tbody tr th:only-of-type {\n",
       "        vertical-align: middle;\n",
       "    }\n",
       "\n",
       "    .dataframe tbody tr th {\n",
       "        vertical-align: top;\n",
       "    }\n",
       "\n",
       "    .dataframe thead th {\n",
       "        text-align: right;\n",
       "    }\n",
       "</style>\n",
       "<table border=\"1\" class=\"dataframe\">\n",
       "  <thead>\n",
       "    <tr style=\"text-align: right;\">\n",
       "      <th></th>\n",
       "      <th>Date</th>\n",
       "      <th>Comment</th>\n",
       "      <th>Comment_short</th>\n",
       "      <th>senti_score</th>\n",
       "    </tr>\n",
       "  </thead>\n",
       "  <tbody>\n",
       "    <tr>\n",
       "      <th>0</th>\n",
       "      <td>01/01/2020 10:02</td>\n",
       "      <td>Absolutely everything, I would have changed ev...</td>\n",
       "      <td>absolutely everything would changed everything...</td>\n",
       "      <td>(0.2, 0.9)</td>\n",
       "    </tr>\n",
       "    <tr>\n",
       "      <th>1</th>\n",
       "      <td>01/01/2020 10:02</td>\n",
       "      <td>Tried to get more information about the proble...</td>\n",
       "      <td>tried information problem making decision bye</td>\n",
       "      <td>(0.0, 0.0)</td>\n",
       "    </tr>\n",
       "    <tr>\n",
       "      <th>2</th>\n",
       "      <td>01/01/2020 10:04</td>\n",
       "      <td>My complaint lasted nearly a year, it is still...</td>\n",
       "      <td>lasted nearly year still ongoing however close...</td>\n",
       "      <td>(0.05595238095238097, 0.3619047619047619)</td>\n",
       "    </tr>\n",
       "    <tr>\n",
       "      <th>3</th>\n",
       "      <td>02/01/2020 10:02</td>\n",
       "      <td>I think LandQ should listen to their tenants p...</td>\n",
       "      <td>think landq listen tenants properly make sure ...</td>\n",
       "      <td>(0.23928571428571427, 0.4984126984126985)</td>\n",
       "    </tr>\n",
       "    <tr>\n",
       "      <th>4</th>\n",
       "      <td>03/01/2020 10:03</td>\n",
       "      <td>I also scheming to help people that have best ...</td>\n",
       "      <td>also scheming help people best opportunities p...</td>\n",
       "      <td>(0.6, 0.25)</td>\n",
       "    </tr>\n",
       "    <tr>\n",
       "      <th>...</th>\n",
       "      <td>...</td>\n",
       "      <td>...</td>\n",
       "      <td>...</td>\n",
       "      <td>...</td>\n",
       "    </tr>\n",
       "    <tr>\n",
       "      <th>424</th>\n",
       "      <td>27/11/2020 10:03</td>\n",
       "      <td>I actually responding to questions raised corr...</td>\n",
       "      <td>responding questions raised correctly giving r...</td>\n",
       "      <td>(0.01938775510204082, 0.4051020408163265)</td>\n",
       "    </tr>\n",
       "    <tr>\n",
       "      <th>425</th>\n",
       "      <td>27/11/2020 10:03</td>\n",
       "      <td>Fine how it could be dealt with it is if I can...</td>\n",
       "      <td>fine dealt line home would processed would goo...</td>\n",
       "      <td>(0.3066666666666667, 0.35333333333333333)</td>\n",
       "    </tr>\n",
       "    <tr>\n",
       "      <th>426</th>\n",
       "      <td>27/11/2020 10:04</td>\n",
       "      <td>To fix the actual problem, we're still nearly ...</td>\n",
       "      <td>fix actual problem still nearly 3 weeks hot wa...</td>\n",
       "      <td>(0.05959595959595961, 0.5241414141414142)</td>\n",
       "    </tr>\n",
       "    <tr>\n",
       "      <th>427</th>\n",
       "      <td>28/11/2020 10:03</td>\n",
       "      <td>I say I think you do not listen to residence I...</td>\n",
       "      <td>say think listen residence think addressed use...</td>\n",
       "      <td>(-0.27499999999999997, 0.425)</td>\n",
       "    </tr>\n",
       "    <tr>\n",
       "      <th>428</th>\n",
       "      <td>28/11/2020 10:05</td>\n",
       "      <td>I spend over 12 an a half hours on the phone I...</td>\n",
       "      <td>spend 12 half hours phone phoned seven times y...</td>\n",
       "      <td>(-0.17407407407407405, 0.7351851851851854)</td>\n",
       "    </tr>\n",
       "  </tbody>\n",
       "</table>\n",
       "<p>429 rows × 4 columns</p>\n",
       "</div>"
      ],
      "text/plain": [
       "                 Date                                            Comment  \\\n",
       "0    01/01/2020 10:02  Absolutely everything, I would have changed ev...   \n",
       "1    01/01/2020 10:02  Tried to get more information about the proble...   \n",
       "2    01/01/2020 10:04  My complaint lasted nearly a year, it is still...   \n",
       "3    02/01/2020 10:02  I think LandQ should listen to their tenants p...   \n",
       "4    03/01/2020 10:03  I also scheming to help people that have best ...   \n",
       "..                ...                                                ...   \n",
       "424  27/11/2020 10:03  I actually responding to questions raised corr...   \n",
       "425  27/11/2020 10:03  Fine how it could be dealt with it is if I can...   \n",
       "426  27/11/2020 10:04  To fix the actual problem, we're still nearly ...   \n",
       "427  28/11/2020 10:03  I say I think you do not listen to residence I...   \n",
       "428  28/11/2020 10:05  I spend over 12 an a half hours on the phone I...   \n",
       "\n",
       "                                         Comment_short  \\\n",
       "0    absolutely everything would changed everything...   \n",
       "1        tried information problem making decision bye   \n",
       "2    lasted nearly year still ongoing however close...   \n",
       "3    think landq listen tenants properly make sure ...   \n",
       "4    also scheming help people best opportunities p...   \n",
       "..                                                 ...   \n",
       "424  responding questions raised correctly giving r...   \n",
       "425  fine dealt line home would processed would goo...   \n",
       "426  fix actual problem still nearly 3 weeks hot wa...   \n",
       "427  say think listen residence think addressed use...   \n",
       "428  spend 12 half hours phone phoned seven times y...   \n",
       "\n",
       "                                    senti_score  \n",
       "0                                    (0.2, 0.9)  \n",
       "1                                    (0.0, 0.0)  \n",
       "2     (0.05595238095238097, 0.3619047619047619)  \n",
       "3     (0.23928571428571427, 0.4984126984126985)  \n",
       "4                                   (0.6, 0.25)  \n",
       "..                                          ...  \n",
       "424   (0.01938775510204082, 0.4051020408163265)  \n",
       "425   (0.3066666666666667, 0.35333333333333333)  \n",
       "426   (0.05959595959595961, 0.5241414141414142)  \n",
       "427               (-0.27499999999999997, 0.425)  \n",
       "428  (-0.17407407407407405, 0.7351851851851854)  \n",
       "\n",
       "[429 rows x 4 columns]"
      ]
     },
     "execution_count": 306,
     "metadata": {},
     "output_type": "execute_result"
    }
   ],
   "source": [
    "df"
   ]
  },
  {
   "cell_type": "code",
   "execution_count": 307,
   "metadata": {},
   "outputs": [
    {
     "data": {
      "text/html": [
       "<div>\n",
       "<style scoped>\n",
       "    .dataframe tbody tr th:only-of-type {\n",
       "        vertical-align: middle;\n",
       "    }\n",
       "\n",
       "    .dataframe tbody tr th {\n",
       "        vertical-align: top;\n",
       "    }\n",
       "\n",
       "    .dataframe thead th {\n",
       "        text-align: right;\n",
       "    }\n",
       "</style>\n",
       "<table border=\"1\" class=\"dataframe\">\n",
       "  <thead>\n",
       "    <tr style=\"text-align: right;\">\n",
       "      <th></th>\n",
       "      <th>Date</th>\n",
       "      <th>Comment</th>\n",
       "      <th>Comment_short</th>\n",
       "      <th>senti_score</th>\n",
       "    </tr>\n",
       "  </thead>\n",
       "  <tbody>\n",
       "    <tr>\n",
       "      <th>0</th>\n",
       "      <td>01/01/2020 10:02</td>\n",
       "      <td>Absolutely everything, I would have changed ev...</td>\n",
       "      <td>absolutely everything would changed everything...</td>\n",
       "      <td>(0.2, 0.9)</td>\n",
       "    </tr>\n",
       "    <tr>\n",
       "      <th>1</th>\n",
       "      <td>01/01/2020 10:02</td>\n",
       "      <td>Tried to get more information about the proble...</td>\n",
       "      <td>tried information problem making decision bye</td>\n",
       "      <td>(0.0, 0.0)</td>\n",
       "    </tr>\n",
       "    <tr>\n",
       "      <th>2</th>\n",
       "      <td>01/01/2020 10:04</td>\n",
       "      <td>My complaint lasted nearly a year, it is still...</td>\n",
       "      <td>lasted nearly year still ongoing however close...</td>\n",
       "      <td>(0.05595238095238097, 0.3619047619047619)</td>\n",
       "    </tr>\n",
       "    <tr>\n",
       "      <th>3</th>\n",
       "      <td>02/01/2020 10:02</td>\n",
       "      <td>I think LandQ should listen to their tenants p...</td>\n",
       "      <td>think landq listen tenants properly make sure ...</td>\n",
       "      <td>(0.23928571428571427, 0.4984126984126985)</td>\n",
       "    </tr>\n",
       "    <tr>\n",
       "      <th>4</th>\n",
       "      <td>03/01/2020 10:03</td>\n",
       "      <td>I also scheming to help people that have best ...</td>\n",
       "      <td>also scheming help people best opportunities p...</td>\n",
       "      <td>(0.6, 0.25)</td>\n",
       "    </tr>\n",
       "    <tr>\n",
       "      <th>...</th>\n",
       "      <td>...</td>\n",
       "      <td>...</td>\n",
       "      <td>...</td>\n",
       "      <td>...</td>\n",
       "    </tr>\n",
       "    <tr>\n",
       "      <th>424</th>\n",
       "      <td>27/11/2020 10:03</td>\n",
       "      <td>I actually responding to questions raised corr...</td>\n",
       "      <td>responding questions raised correctly giving r...</td>\n",
       "      <td>(0.01938775510204082, 0.4051020408163265)</td>\n",
       "    </tr>\n",
       "    <tr>\n",
       "      <th>425</th>\n",
       "      <td>27/11/2020 10:03</td>\n",
       "      <td>Fine how it could be dealt with it is if I can...</td>\n",
       "      <td>fine dealt line home would processed would goo...</td>\n",
       "      <td>(0.3066666666666667, 0.35333333333333333)</td>\n",
       "    </tr>\n",
       "    <tr>\n",
       "      <th>426</th>\n",
       "      <td>27/11/2020 10:04</td>\n",
       "      <td>To fix the actual problem, we're still nearly ...</td>\n",
       "      <td>fix actual problem still nearly 3 weeks hot wa...</td>\n",
       "      <td>(0.05959595959595961, 0.5241414141414142)</td>\n",
       "    </tr>\n",
       "    <tr>\n",
       "      <th>427</th>\n",
       "      <td>28/11/2020 10:03</td>\n",
       "      <td>I say I think you do not listen to residence I...</td>\n",
       "      <td>say think listen residence think addressed use...</td>\n",
       "      <td>(-0.27499999999999997, 0.425)</td>\n",
       "    </tr>\n",
       "    <tr>\n",
       "      <th>428</th>\n",
       "      <td>28/11/2020 10:05</td>\n",
       "      <td>I spend over 12 an a half hours on the phone I...</td>\n",
       "      <td>spend 12 half hours phone phoned seven times y...</td>\n",
       "      <td>(-0.17407407407407405, 0.7351851851851854)</td>\n",
       "    </tr>\n",
       "  </tbody>\n",
       "</table>\n",
       "<p>429 rows × 4 columns</p>\n",
       "</div>"
      ],
      "text/plain": [
       "                 Date                                            Comment  \\\n",
       "0    01/01/2020 10:02  Absolutely everything, I would have changed ev...   \n",
       "1    01/01/2020 10:02  Tried to get more information about the proble...   \n",
       "2    01/01/2020 10:04  My complaint lasted nearly a year, it is still...   \n",
       "3    02/01/2020 10:02  I think LandQ should listen to their tenants p...   \n",
       "4    03/01/2020 10:03  I also scheming to help people that have best ...   \n",
       "..                ...                                                ...   \n",
       "424  27/11/2020 10:03  I actually responding to questions raised corr...   \n",
       "425  27/11/2020 10:03  Fine how it could be dealt with it is if I can...   \n",
       "426  27/11/2020 10:04  To fix the actual problem, we're still nearly ...   \n",
       "427  28/11/2020 10:03  I say I think you do not listen to residence I...   \n",
       "428  28/11/2020 10:05  I spend over 12 an a half hours on the phone I...   \n",
       "\n",
       "                                         Comment_short  \\\n",
       "0    absolutely everything would changed everything...   \n",
       "1        tried information problem making decision bye   \n",
       "2    lasted nearly year still ongoing however close...   \n",
       "3    think landq listen tenants properly make sure ...   \n",
       "4    also scheming help people best opportunities p...   \n",
       "..                                                 ...   \n",
       "424  responding questions raised correctly giving r...   \n",
       "425  fine dealt line home would processed would goo...   \n",
       "426  fix actual problem still nearly 3 weeks hot wa...   \n",
       "427  say think listen residence think addressed use...   \n",
       "428  spend 12 half hours phone phoned seven times y...   \n",
       "\n",
       "                                    senti_score  \n",
       "0                                    (0.2, 0.9)  \n",
       "1                                    (0.0, 0.0)  \n",
       "2     (0.05595238095238097, 0.3619047619047619)  \n",
       "3     (0.23928571428571427, 0.4984126984126985)  \n",
       "4                                   (0.6, 0.25)  \n",
       "..                                          ...  \n",
       "424   (0.01938775510204082, 0.4051020408163265)  \n",
       "425   (0.3066666666666667, 0.35333333333333333)  \n",
       "426   (0.05959595959595961, 0.5241414141414142)  \n",
       "427               (-0.27499999999999997, 0.425)  \n",
       "428  (-0.17407407407407405, 0.7351851851851854)  \n",
       "\n",
       "[429 rows x 4 columns]"
      ]
     },
     "execution_count": 307,
     "metadata": {},
     "output_type": "execute_result"
    }
   ],
   "source": [
    "df = df.round(3)\n",
    "df"
   ]
  },
  {
   "cell_type": "code",
   "execution_count": 308,
   "metadata": {},
   "outputs": [],
   "source": [
    "df['senti_score'][0][0]\n",
    "df['Polarity'] = df['senti_score'].apply(lambda x: x[0])\n",
    "df['Subjectivity'] = df['senti_score'].apply(lambda x: x[1])"
   ]
  },
  {
   "cell_type": "code",
   "execution_count": 309,
   "metadata": {},
   "outputs": [
    {
     "data": {
      "text/html": [
       "<div>\n",
       "<style scoped>\n",
       "    .dataframe tbody tr th:only-of-type {\n",
       "        vertical-align: middle;\n",
       "    }\n",
       "\n",
       "    .dataframe tbody tr th {\n",
       "        vertical-align: top;\n",
       "    }\n",
       "\n",
       "    .dataframe thead th {\n",
       "        text-align: right;\n",
       "    }\n",
       "</style>\n",
       "<table border=\"1\" class=\"dataframe\">\n",
       "  <thead>\n",
       "    <tr style=\"text-align: right;\">\n",
       "      <th></th>\n",
       "      <th>Date</th>\n",
       "      <th>Comment</th>\n",
       "      <th>Comment_short</th>\n",
       "      <th>senti_score</th>\n",
       "      <th>Polarity</th>\n",
       "      <th>Subjectivity</th>\n",
       "    </tr>\n",
       "  </thead>\n",
       "  <tbody>\n",
       "    <tr>\n",
       "      <th>0</th>\n",
       "      <td>01/01/2020 10:02</td>\n",
       "      <td>Absolutely everything, I would have changed ev...</td>\n",
       "      <td>absolutely everything would changed everything...</td>\n",
       "      <td>(0.2, 0.9)</td>\n",
       "      <td>0.200000</td>\n",
       "      <td>0.900000</td>\n",
       "    </tr>\n",
       "    <tr>\n",
       "      <th>1</th>\n",
       "      <td>01/01/2020 10:02</td>\n",
       "      <td>Tried to get more information about the proble...</td>\n",
       "      <td>tried information problem making decision bye</td>\n",
       "      <td>(0.0, 0.0)</td>\n",
       "      <td>0.000000</td>\n",
       "      <td>0.000000</td>\n",
       "    </tr>\n",
       "    <tr>\n",
       "      <th>2</th>\n",
       "      <td>01/01/2020 10:04</td>\n",
       "      <td>My complaint lasted nearly a year, it is still...</td>\n",
       "      <td>lasted nearly year still ongoing however close...</td>\n",
       "      <td>(0.05595238095238097, 0.3619047619047619)</td>\n",
       "      <td>0.055952</td>\n",
       "      <td>0.361905</td>\n",
       "    </tr>\n",
       "    <tr>\n",
       "      <th>3</th>\n",
       "      <td>02/01/2020 10:02</td>\n",
       "      <td>I think LandQ should listen to their tenants p...</td>\n",
       "      <td>think landq listen tenants properly make sure ...</td>\n",
       "      <td>(0.23928571428571427, 0.4984126984126985)</td>\n",
       "      <td>0.239286</td>\n",
       "      <td>0.498413</td>\n",
       "    </tr>\n",
       "    <tr>\n",
       "      <th>4</th>\n",
       "      <td>03/01/2020 10:03</td>\n",
       "      <td>I also scheming to help people that have best ...</td>\n",
       "      <td>also scheming help people best opportunities p...</td>\n",
       "      <td>(0.6, 0.25)</td>\n",
       "      <td>0.600000</td>\n",
       "      <td>0.250000</td>\n",
       "    </tr>\n",
       "    <tr>\n",
       "      <th>...</th>\n",
       "      <td>...</td>\n",
       "      <td>...</td>\n",
       "      <td>...</td>\n",
       "      <td>...</td>\n",
       "      <td>...</td>\n",
       "      <td>...</td>\n",
       "    </tr>\n",
       "    <tr>\n",
       "      <th>424</th>\n",
       "      <td>27/11/2020 10:03</td>\n",
       "      <td>I actually responding to questions raised corr...</td>\n",
       "      <td>responding questions raised correctly giving r...</td>\n",
       "      <td>(0.01938775510204082, 0.4051020408163265)</td>\n",
       "      <td>0.019388</td>\n",
       "      <td>0.405102</td>\n",
       "    </tr>\n",
       "    <tr>\n",
       "      <th>425</th>\n",
       "      <td>27/11/2020 10:03</td>\n",
       "      <td>Fine how it could be dealt with it is if I can...</td>\n",
       "      <td>fine dealt line home would processed would goo...</td>\n",
       "      <td>(0.3066666666666667, 0.35333333333333333)</td>\n",
       "      <td>0.306667</td>\n",
       "      <td>0.353333</td>\n",
       "    </tr>\n",
       "    <tr>\n",
       "      <th>426</th>\n",
       "      <td>27/11/2020 10:04</td>\n",
       "      <td>To fix the actual problem, we're still nearly ...</td>\n",
       "      <td>fix actual problem still nearly 3 weeks hot wa...</td>\n",
       "      <td>(0.05959595959595961, 0.5241414141414142)</td>\n",
       "      <td>0.059596</td>\n",
       "      <td>0.524141</td>\n",
       "    </tr>\n",
       "    <tr>\n",
       "      <th>427</th>\n",
       "      <td>28/11/2020 10:03</td>\n",
       "      <td>I say I think you do not listen to residence I...</td>\n",
       "      <td>say think listen residence think addressed use...</td>\n",
       "      <td>(-0.27499999999999997, 0.425)</td>\n",
       "      <td>-0.275000</td>\n",
       "      <td>0.425000</td>\n",
       "    </tr>\n",
       "    <tr>\n",
       "      <th>428</th>\n",
       "      <td>28/11/2020 10:05</td>\n",
       "      <td>I spend over 12 an a half hours on the phone I...</td>\n",
       "      <td>spend 12 half hours phone phoned seven times y...</td>\n",
       "      <td>(-0.17407407407407405, 0.7351851851851854)</td>\n",
       "      <td>-0.174074</td>\n",
       "      <td>0.735185</td>\n",
       "    </tr>\n",
       "  </tbody>\n",
       "</table>\n",
       "<p>429 rows × 6 columns</p>\n",
       "</div>"
      ],
      "text/plain": [
       "                 Date                                            Comment  \\\n",
       "0    01/01/2020 10:02  Absolutely everything, I would have changed ev...   \n",
       "1    01/01/2020 10:02  Tried to get more information about the proble...   \n",
       "2    01/01/2020 10:04  My complaint lasted nearly a year, it is still...   \n",
       "3    02/01/2020 10:02  I think LandQ should listen to their tenants p...   \n",
       "4    03/01/2020 10:03  I also scheming to help people that have best ...   \n",
       "..                ...                                                ...   \n",
       "424  27/11/2020 10:03  I actually responding to questions raised corr...   \n",
       "425  27/11/2020 10:03  Fine how it could be dealt with it is if I can...   \n",
       "426  27/11/2020 10:04  To fix the actual problem, we're still nearly ...   \n",
       "427  28/11/2020 10:03  I say I think you do not listen to residence I...   \n",
       "428  28/11/2020 10:05  I spend over 12 an a half hours on the phone I...   \n",
       "\n",
       "                                         Comment_short  \\\n",
       "0    absolutely everything would changed everything...   \n",
       "1        tried information problem making decision bye   \n",
       "2    lasted nearly year still ongoing however close...   \n",
       "3    think landq listen tenants properly make sure ...   \n",
       "4    also scheming help people best opportunities p...   \n",
       "..                                                 ...   \n",
       "424  responding questions raised correctly giving r...   \n",
       "425  fine dealt line home would processed would goo...   \n",
       "426  fix actual problem still nearly 3 weeks hot wa...   \n",
       "427  say think listen residence think addressed use...   \n",
       "428  spend 12 half hours phone phoned seven times y...   \n",
       "\n",
       "                                    senti_score  Polarity  Subjectivity  \n",
       "0                                    (0.2, 0.9)  0.200000      0.900000  \n",
       "1                                    (0.0, 0.0)  0.000000      0.000000  \n",
       "2     (0.05595238095238097, 0.3619047619047619)  0.055952      0.361905  \n",
       "3     (0.23928571428571427, 0.4984126984126985)  0.239286      0.498413  \n",
       "4                                   (0.6, 0.25)  0.600000      0.250000  \n",
       "..                                          ...       ...           ...  \n",
       "424   (0.01938775510204082, 0.4051020408163265)  0.019388      0.405102  \n",
       "425   (0.3066666666666667, 0.35333333333333333)  0.306667      0.353333  \n",
       "426   (0.05959595959595961, 0.5241414141414142)  0.059596      0.524141  \n",
       "427               (-0.27499999999999997, 0.425) -0.275000      0.425000  \n",
       "428  (-0.17407407407407405, 0.7351851851851854) -0.174074      0.735185  \n",
       "\n",
       "[429 rows x 6 columns]"
      ]
     },
     "execution_count": 309,
     "metadata": {},
     "output_type": "execute_result"
    }
   ],
   "source": [
    "df"
   ]
  },
  {
   "cell_type": "code",
   "execution_count": 310,
   "metadata": {},
   "outputs": [
    {
     "data": {
      "text/html": [
       "<div>\n",
       "<style scoped>\n",
       "    .dataframe tbody tr th:only-of-type {\n",
       "        vertical-align: middle;\n",
       "    }\n",
       "\n",
       "    .dataframe tbody tr th {\n",
       "        vertical-align: top;\n",
       "    }\n",
       "\n",
       "    .dataframe thead th {\n",
       "        text-align: right;\n",
       "    }\n",
       "</style>\n",
       "<table border=\"1\" class=\"dataframe\">\n",
       "  <thead>\n",
       "    <tr style=\"text-align: right;\">\n",
       "      <th></th>\n",
       "      <th>Polarity</th>\n",
       "      <th>Subjectivity</th>\n",
       "    </tr>\n",
       "  </thead>\n",
       "  <tbody>\n",
       "    <tr>\n",
       "      <th>count</th>\n",
       "      <td>429.000000</td>\n",
       "      <td>429.000000</td>\n",
       "    </tr>\n",
       "    <tr>\n",
       "      <th>mean</th>\n",
       "      <td>0.070625</td>\n",
       "      <td>0.379614</td>\n",
       "    </tr>\n",
       "    <tr>\n",
       "      <th>std</th>\n",
       "      <td>0.254151</td>\n",
       "      <td>0.278515</td>\n",
       "    </tr>\n",
       "    <tr>\n",
       "      <th>min</th>\n",
       "      <td>-1.000000</td>\n",
       "      <td>0.000000</td>\n",
       "    </tr>\n",
       "    <tr>\n",
       "      <th>25%</th>\n",
       "      <td>0.000000</td>\n",
       "      <td>0.100000</td>\n",
       "    </tr>\n",
       "    <tr>\n",
       "      <th>50%</th>\n",
       "      <td>0.006250</td>\n",
       "      <td>0.405429</td>\n",
       "    </tr>\n",
       "    <tr>\n",
       "      <th>75%</th>\n",
       "      <td>0.200000</td>\n",
       "      <td>0.571429</td>\n",
       "    </tr>\n",
       "    <tr>\n",
       "      <th>max</th>\n",
       "      <td>0.800000</td>\n",
       "      <td>1.000000</td>\n",
       "    </tr>\n",
       "  </tbody>\n",
       "</table>\n",
       "</div>"
      ],
      "text/plain": [
       "         Polarity  Subjectivity\n",
       "count  429.000000    429.000000\n",
       "mean     0.070625      0.379614\n",
       "std      0.254151      0.278515\n",
       "min     -1.000000      0.000000\n",
       "25%      0.000000      0.100000\n",
       "50%      0.006250      0.405429\n",
       "75%      0.200000      0.571429\n",
       "max      0.800000      1.000000"
      ]
     },
     "execution_count": 310,
     "metadata": {},
     "output_type": "execute_result"
    }
   ],
   "source": [
    "df.describe()"
   ]
  },
  {
   "cell_type": "code",
   "execution_count": 311,
   "metadata": {},
   "outputs": [
    {
     "data": {
      "text/html": [
       "<div>\n",
       "<style scoped>\n",
       "    .dataframe tbody tr th:only-of-type {\n",
       "        vertical-align: middle;\n",
       "    }\n",
       "\n",
       "    .dataframe tbody tr th {\n",
       "        vertical-align: top;\n",
       "    }\n",
       "\n",
       "    .dataframe thead th {\n",
       "        text-align: right;\n",
       "    }\n",
       "</style>\n",
       "<table border=\"1\" class=\"dataframe\">\n",
       "  <thead>\n",
       "    <tr style=\"text-align: right;\">\n",
       "      <th></th>\n",
       "      <th>Date</th>\n",
       "      <th>Comment</th>\n",
       "      <th>Comment_short</th>\n",
       "      <th>senti_score</th>\n",
       "      <th>Polarity</th>\n",
       "      <th>Subjectivity</th>\n",
       "    </tr>\n",
       "  </thead>\n",
       "  <tbody>\n",
       "    <tr>\n",
       "      <th>257</th>\n",
       "      <td>05/08/2020 10:03</td>\n",
       "      <td>Yeah, I'm very happy that everything is resolv...</td>\n",
       "      <td>yeah happy everything resolved took quite took...</td>\n",
       "      <td>(0.8, 1.0)</td>\n",
       "      <td>0.80</td>\n",
       "      <td>1.00</td>\n",
       "    </tr>\n",
       "    <tr>\n",
       "      <th>262</th>\n",
       "      <td>06/08/2020 10:03</td>\n",
       "      <td>Hi I am still waiting for a person to give me ...</td>\n",
       "      <td>hi still waiting person give call dealing alre...</td>\n",
       "      <td>(0.8, 0.75)</td>\n",
       "      <td>0.80</td>\n",
       "      <td>0.75</td>\n",
       "    </tr>\n",
       "    <tr>\n",
       "      <th>258</th>\n",
       "      <td>05/08/2020 10:03</td>\n",
       "      <td>Well it would have been helpful if my complain...</td>\n",
       "      <td>well would helpful resolved successfully hasnt...</td>\n",
       "      <td>(0.75, 0.95)</td>\n",
       "      <td>0.75</td>\n",
       "      <td>0.95</td>\n",
       "    </tr>\n",
       "    <tr>\n",
       "      <th>12</th>\n",
       "      <td>08/01/2020 10:02</td>\n",
       "      <td>I'm actually still waiting for my complaint to...</td>\n",
       "      <td>still waiting knowledge sums somebody contact ...</td>\n",
       "      <td>(0.7, 0.6000000000000001)</td>\n",
       "      <td>0.70</td>\n",
       "      <td>0.60</td>\n",
       "    </tr>\n",
       "    <tr>\n",
       "      <th>75</th>\n",
       "      <td>12/02/2020 10:03</td>\n",
       "      <td>It would be good if you could get the cladding...</td>\n",
       "      <td>would good cladding tested building</td>\n",
       "      <td>(0.7, 0.6000000000000001)</td>\n",
       "      <td>0.70</td>\n",
       "      <td>0.60</td>\n",
       "    </tr>\n",
       "  </tbody>\n",
       "</table>\n",
       "</div>"
      ],
      "text/plain": [
       "                 Date                                            Comment  \\\n",
       "257  05/08/2020 10:03  Yeah, I'm very happy that everything is resolv...   \n",
       "262  06/08/2020 10:03  Hi I am still waiting for a person to give me ...   \n",
       "258  05/08/2020 10:03  Well it would have been helpful if my complain...   \n",
       "12   08/01/2020 10:02  I'm actually still waiting for my complaint to...   \n",
       "75   12/02/2020 10:03  It would be good if you could get the cladding...   \n",
       "\n",
       "                                         Comment_short  \\\n",
       "257  yeah happy everything resolved took quite took...   \n",
       "262  hi still waiting person give call dealing alre...   \n",
       "258  well would helpful resolved successfully hasnt...   \n",
       "12   still waiting knowledge sums somebody contact ...   \n",
       "75                 would good cladding tested building   \n",
       "\n",
       "                   senti_score  Polarity  Subjectivity  \n",
       "257                 (0.8, 1.0)      0.80          1.00  \n",
       "262                (0.8, 0.75)      0.80          0.75  \n",
       "258               (0.75, 0.95)      0.75          0.95  \n",
       "12   (0.7, 0.6000000000000001)      0.70          0.60  \n",
       "75   (0.7, 0.6000000000000001)      0.70          0.60  "
      ]
     },
     "execution_count": 311,
     "metadata": {},
     "output_type": "execute_result"
    }
   ],
   "source": [
    "df.nlargest(5,['Polarity'])"
   ]
  },
  {
   "cell_type": "code",
   "execution_count": 312,
   "metadata": {},
   "outputs": [
    {
     "data": {
      "text/plain": [
       "\"Yeah, I'm very happy that everything is resolved, it took quite a while, it took about a year but in the end, thank you More Than.\""
      ]
     },
     "execution_count": 312,
     "metadata": {},
     "output_type": "execute_result"
    }
   ],
   "source": [
    "df['Comment'][257]"
   ]
  },
  {
   "cell_type": "code",
   "execution_count": 313,
   "metadata": {},
   "outputs": [
    {
     "data": {
      "text/html": [
       "<div>\n",
       "<style scoped>\n",
       "    .dataframe tbody tr th:only-of-type {\n",
       "        vertical-align: middle;\n",
       "    }\n",
       "\n",
       "    .dataframe tbody tr th {\n",
       "        vertical-align: top;\n",
       "    }\n",
       "\n",
       "    .dataframe thead th {\n",
       "        text-align: right;\n",
       "    }\n",
       "</style>\n",
       "<table border=\"1\" class=\"dataframe\">\n",
       "  <thead>\n",
       "    <tr style=\"text-align: right;\">\n",
       "      <th></th>\n",
       "      <th>Date</th>\n",
       "      <th>Comment</th>\n",
       "      <th>Comment_short</th>\n",
       "      <th>senti_score</th>\n",
       "      <th>Polarity</th>\n",
       "      <th>Subjectivity</th>\n",
       "    </tr>\n",
       "  </thead>\n",
       "  <tbody>\n",
       "    <tr>\n",
       "      <th>41</th>\n",
       "      <td>28/01/2020 10:03</td>\n",
       "      <td>Yeah you could of actually listened and resolv...</td>\n",
       "      <td>yeah listened resolved issue instead waiting 4...</td>\n",
       "      <td>(-1.0, 1.0)</td>\n",
       "      <td>-1.000000</td>\n",
       "      <td>1.000000</td>\n",
       "    </tr>\n",
       "    <tr>\n",
       "      <th>326</th>\n",
       "      <td>01/10/2020 10:03</td>\n",
       "      <td>Not twisting the figures so that my stage 3 co...</td>\n",
       "      <td>twisting figures stage 3 stays stage 1 ie comp...</td>\n",
       "      <td>(-0.8, 0.8)</td>\n",
       "      <td>-0.800000</td>\n",
       "      <td>0.800000</td>\n",
       "    </tr>\n",
       "    <tr>\n",
       "      <th>332</th>\n",
       "      <td>02/10/2020 10:03</td>\n",
       "      <td>My complaint could have been reviewed and deal...</td>\n",
       "      <td>reviewed dealt rather ignored dealt ive waited...</td>\n",
       "      <td>(-0.8, 1.0)</td>\n",
       "      <td>-0.800000</td>\n",
       "      <td>1.000000</td>\n",
       "    </tr>\n",
       "    <tr>\n",
       "      <th>47</th>\n",
       "      <td>29/01/2020 10:03</td>\n",
       "      <td>Could have got bad (?).</td>\n",
       "      <td>got bad</td>\n",
       "      <td>(-0.6999999999999998, 0.6666666666666666)</td>\n",
       "      <td>-0.700000</td>\n",
       "      <td>0.666667</td>\n",
       "    </tr>\n",
       "    <tr>\n",
       "      <th>253</th>\n",
       "      <td>01/08/2020 10:04</td>\n",
       "      <td>Very bad everything was very very bad thank yo...</td>\n",
       "      <td>bad everything bad bye</td>\n",
       "      <td>(-0.6999999999999998, 0.6666666666666666)</td>\n",
       "      <td>-0.700000</td>\n",
       "      <td>0.666667</td>\n",
       "    </tr>\n",
       "    <tr>\n",
       "      <th>65</th>\n",
       "      <td>07/02/2020 10:03</td>\n",
       "      <td>Well I think you could of understood the stres...</td>\n",
       "      <td>well think understood stress cold poorly feel ...</td>\n",
       "      <td>(-0.6666666666666666, 0.8666666666666667)</td>\n",
       "      <td>-0.666667</td>\n",
       "      <td>0.866667</td>\n",
       "    </tr>\n",
       "    <tr>\n",
       "      <th>214</th>\n",
       "      <td>02/07/2020 10:04</td>\n",
       "      <td>Bloody useless.</td>\n",
       "      <td>bloody useless</td>\n",
       "      <td>(-0.65, 0.55)</td>\n",
       "      <td>-0.650000</td>\n",
       "      <td>0.550000</td>\n",
       "    </tr>\n",
       "    <tr>\n",
       "      <th>422</th>\n",
       "      <td>27/11/2020 10:02</td>\n",
       "      <td>I haven't got hours to explain all the crap I ...</td>\n",
       "      <td>havent got hours explain crap queue suggest so...</td>\n",
       "      <td>(-0.5458333333333334, 0.6708333333333334)</td>\n",
       "      <td>-0.545833</td>\n",
       "      <td>0.670833</td>\n",
       "    </tr>\n",
       "    <tr>\n",
       "      <th>62</th>\n",
       "      <td>05/02/2020 10:03</td>\n",
       "      <td>It would help if they could send someone who c...</td>\n",
       "      <td>would help send someone sort problems weve spe...</td>\n",
       "      <td>(-0.5333333333333333, 0.7000000000000001)</td>\n",
       "      <td>-0.533333</td>\n",
       "      <td>0.700000</td>\n",
       "    </tr>\n",
       "    <tr>\n",
       "      <th>293</th>\n",
       "      <td>03/09/2020 10:03</td>\n",
       "      <td>I actually haven't got anyone to speak to me a...</td>\n",
       "      <td>havent got anyone speak ive complained 2 times...</td>\n",
       "      <td>(-0.525, 0.475)</td>\n",
       "      <td>-0.525000</td>\n",
       "      <td>0.475000</td>\n",
       "    </tr>\n",
       "  </tbody>\n",
       "</table>\n",
       "</div>"
      ],
      "text/plain": [
       "                 Date                                            Comment  \\\n",
       "41   28/01/2020 10:03  Yeah you could of actually listened and resolv...   \n",
       "326  01/10/2020 10:03  Not twisting the figures so that my stage 3 co...   \n",
       "332  02/10/2020 10:03  My complaint could have been reviewed and deal...   \n",
       "47   29/01/2020 10:03                           Could have got bad (?).    \n",
       "253  01/08/2020 10:04  Very bad everything was very very bad thank yo...   \n",
       "65   07/02/2020 10:03  Well I think you could of understood the stres...   \n",
       "214  02/07/2020 10:04                                    Bloody useless.   \n",
       "422  27/11/2020 10:02  I haven't got hours to explain all the crap I ...   \n",
       "62   05/02/2020 10:03  It would help if they could send someone who c...   \n",
       "293  03/09/2020 10:03  I actually haven't got anyone to speak to me a...   \n",
       "\n",
       "                                         Comment_short  \\\n",
       "41   yeah listened resolved issue instead waiting 4...   \n",
       "326  twisting figures stage 3 stays stage 1 ie comp...   \n",
       "332  reviewed dealt rather ignored dealt ive waited...   \n",
       "47                                             got bad   \n",
       "253                             bad everything bad bye   \n",
       "65   well think understood stress cold poorly feel ...   \n",
       "214                                     bloody useless   \n",
       "422  havent got hours explain crap queue suggest so...   \n",
       "62   would help send someone sort problems weve spe...   \n",
       "293  havent got anyone speak ive complained 2 times...   \n",
       "\n",
       "                                   senti_score  Polarity  Subjectivity  \n",
       "41                                 (-1.0, 1.0) -1.000000      1.000000  \n",
       "326                                (-0.8, 0.8) -0.800000      0.800000  \n",
       "332                                (-0.8, 1.0) -0.800000      1.000000  \n",
       "47   (-0.6999999999999998, 0.6666666666666666) -0.700000      0.666667  \n",
       "253  (-0.6999999999999998, 0.6666666666666666) -0.700000      0.666667  \n",
       "65   (-0.6666666666666666, 0.8666666666666667) -0.666667      0.866667  \n",
       "214                              (-0.65, 0.55) -0.650000      0.550000  \n",
       "422  (-0.5458333333333334, 0.6708333333333334) -0.545833      0.670833  \n",
       "62   (-0.5333333333333333, 0.7000000000000001) -0.533333      0.700000  \n",
       "293                            (-0.525, 0.475) -0.525000      0.475000  "
      ]
     },
     "execution_count": 313,
     "metadata": {},
     "output_type": "execute_result"
    }
   ],
   "source": [
    "df.nsmallest(10,['Polarity'])"
   ]
  },
  {
   "cell_type": "code",
   "execution_count": 314,
   "metadata": {},
   "outputs": [
    {
     "data": {
      "text/plain": [
       "\"I haven't got hours to explain all the crap I have been through with in a queue so I suggest that someone called me to fifteen months after buying this fact from you I'm still living in hell it and I have asked meantime someone senior to call me and no one ever done with you guys should hang their heads in shame I've worked hard all my life I paid a lot of money for this that and you don't even care\""
      ]
     },
     "execution_count": 314,
     "metadata": {},
     "output_type": "execute_result"
    }
   ],
   "source": [
    "df['Comment'][326]\n",
    "df['Comment'][422]"
   ]
  },
  {
   "cell_type": "code",
   "execution_count": null,
   "metadata": {},
   "outputs": [],
   "source": [
    "\n",
    "# did it change over time?\n",
    "# the volume of the survey per month?"
   ]
  }
 ],
 "metadata": {
  "kernelspec": {
   "display_name": "Python 3",
   "language": "python",
   "name": "python3"
  },
  "language_info": {
   "codemirror_mode": {
    "name": "ipython",
    "version": 3
   },
   "file_extension": ".py",
   "mimetype": "text/x-python",
   "name": "python",
   "nbconvert_exporter": "python",
   "pygments_lexer": "ipython3",
   "version": "3.8.5"
  }
 },
 "nbformat": 4,
 "nbformat_minor": 4
}
